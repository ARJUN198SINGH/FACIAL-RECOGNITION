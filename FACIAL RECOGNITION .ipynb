{
 "cells": [
  {
   "cell_type": "code",
   "execution_count": 4,
   "id": "1b78add6",
   "metadata": {},
   "outputs": [
    {
     "name": "stdout",
     "output_type": "stream",
     "text": [
      "enter the number: 1\n",
      "enter the name : arjun\n"
     ]
    }
   ],
   "source": [
    "import cv2\n",
    "import os\n",
    "model=cv2.CascadeClassifier(\"C:/Users/DELL/anaconda3/Lib/site-packages/cv2/data/haarcascade_frontalface_default.xml\")\n",
    "vdo=cv2.VideoCapture(0)\n",
    "X=[]\n",
    "X1=[]\n",
    "num=int(input('enter the number of candidate: '))\n",
    "while(num>=1):\n",
    "    i=1\n",
    "    name=input('enter the name : ')\n",
    "    parent_dir='D:/facial/'\n",
    "    path = os.path.join(parent_dir, name) \n",
    "    os.mkdir(path) \n",
    "    num-=1\n",
    "    while True:\n",
    "        isImg,img=vdo.read()\n",
    "        if isImg==False:\n",
    "            break\n",
    "        faces=model.detectMultiScale(img)\n",
    "        for x,y,w,h in faces:\n",
    "            cv2.rectangle(img,(x,y),(x+w,y+h),(123,213,122))\n",
    "        img1=img[y:y+h,x:x+w]\n",
    "        cv2.imwrite(f'{path}/img{i}.jpeg',img1)\n",
    "        cv2.imshow('a',img)\n",
    "\n",
    "        \n",
    "        img1=cv2.resize(img1,(90,90))\n",
    "        img1=img1.flatten()\n",
    "        img1=img1/255\n",
    "        X.append(img1)\n",
    "        X1.append(name)\n",
    "        \n",
    "        i+=1\n",
    "        if(i==100):\n",
    "            break\n",
    "        key=cv2.waitKey(25)\n",
    "        if(key==ord('c')):\n",
    "            break\n",
    "    cv2.destroyAllWindows()\n",
    "vdo.release()"
   ]
  },
  {
   "cell_type": "code",
   "execution_count": 91,
   "id": "4cc41655",
   "metadata": {},
   "outputs": [],
   "source": [
    "import pandas as pd\n",
    "df=pd.DataFrame(data=X)\n",
    "df1=pd.DataFrame(data=X1,columns=['target'])"
   ]
  },
  {
   "cell_type": "code",
   "execution_count": 92,
   "id": "fcf469af",
   "metadata": {},
   "outputs": [
    {
     "data": {
      "text/html": [
       "<div>\n",
       "<style scoped>\n",
       "    .dataframe tbody tr th:only-of-type {\n",
       "        vertical-align: middle;\n",
       "    }\n",
       "\n",
       "    .dataframe tbody tr th {\n",
       "        vertical-align: top;\n",
       "    }\n",
       "\n",
       "    .dataframe thead th {\n",
       "        text-align: right;\n",
       "    }\n",
       "</style>\n",
       "<table border=\"1\" class=\"dataframe\">\n",
       "  <thead>\n",
       "    <tr style=\"text-align: right;\">\n",
       "      <th></th>\n",
       "      <th>0</th>\n",
       "      <th>1</th>\n",
       "      <th>2</th>\n",
       "      <th>3</th>\n",
       "      <th>4</th>\n",
       "      <th>5</th>\n",
       "      <th>6</th>\n",
       "      <th>7</th>\n",
       "      <th>8</th>\n",
       "      <th>9</th>\n",
       "      <th>...</th>\n",
       "      <th>24291</th>\n",
       "      <th>24292</th>\n",
       "      <th>24293</th>\n",
       "      <th>24294</th>\n",
       "      <th>24295</th>\n",
       "      <th>24296</th>\n",
       "      <th>24297</th>\n",
       "      <th>24298</th>\n",
       "      <th>24299</th>\n",
       "      <th>target</th>\n",
       "    </tr>\n",
       "  </thead>\n",
       "  <tbody>\n",
       "    <tr>\n",
       "      <th>0</th>\n",
       "      <td>0.482353</td>\n",
       "      <td>0.831373</td>\n",
       "      <td>0.478431</td>\n",
       "      <td>0.490196</td>\n",
       "      <td>0.800000</td>\n",
       "      <td>0.486275</td>\n",
       "      <td>0.490196</td>\n",
       "      <td>0.800000</td>\n",
       "      <td>0.490196</td>\n",
       "      <td>0.494118</td>\n",
       "      <td>...</td>\n",
       "      <td>0.784314</td>\n",
       "      <td>0.788235</td>\n",
       "      <td>0.772549</td>\n",
       "      <td>0.776471</td>\n",
       "      <td>0.784314</td>\n",
       "      <td>0.768627</td>\n",
       "      <td>0.780392</td>\n",
       "      <td>0.784314</td>\n",
       "      <td>0.768627</td>\n",
       "      <td>arjun</td>\n",
       "    </tr>\n",
       "    <tr>\n",
       "      <th>1</th>\n",
       "      <td>0.482353</td>\n",
       "      <td>0.827451</td>\n",
       "      <td>0.478431</td>\n",
       "      <td>0.486275</td>\n",
       "      <td>0.788235</td>\n",
       "      <td>0.482353</td>\n",
       "      <td>0.490196</td>\n",
       "      <td>0.792157</td>\n",
       "      <td>0.486275</td>\n",
       "      <td>0.494118</td>\n",
       "      <td>...</td>\n",
       "      <td>0.780392</td>\n",
       "      <td>0.780392</td>\n",
       "      <td>0.764706</td>\n",
       "      <td>0.784314</td>\n",
       "      <td>0.788235</td>\n",
       "      <td>0.772549</td>\n",
       "      <td>0.788235</td>\n",
       "      <td>0.792157</td>\n",
       "      <td>0.776471</td>\n",
       "      <td>arjun</td>\n",
       "    </tr>\n",
       "    <tr>\n",
       "      <th>2</th>\n",
       "      <td>0.482353</td>\n",
       "      <td>0.835294</td>\n",
       "      <td>0.478431</td>\n",
       "      <td>0.482353</td>\n",
       "      <td>0.835294</td>\n",
       "      <td>0.478431</td>\n",
       "      <td>0.482353</td>\n",
       "      <td>0.835294</td>\n",
       "      <td>0.478431</td>\n",
       "      <td>0.482353</td>\n",
       "      <td>...</td>\n",
       "      <td>0.435294</td>\n",
       "      <td>0.454902</td>\n",
       "      <td>0.568627</td>\n",
       "      <td>0.439216</td>\n",
       "      <td>0.454902</td>\n",
       "      <td>0.568627</td>\n",
       "      <td>0.443137</td>\n",
       "      <td>0.458824</td>\n",
       "      <td>0.572549</td>\n",
       "      <td>arjun</td>\n",
       "    </tr>\n",
       "    <tr>\n",
       "      <th>3</th>\n",
       "      <td>0.482353</td>\n",
       "      <td>0.823529</td>\n",
       "      <td>0.474510</td>\n",
       "      <td>0.478431</td>\n",
       "      <td>0.776471</td>\n",
       "      <td>0.474510</td>\n",
       "      <td>0.486275</td>\n",
       "      <td>0.784314</td>\n",
       "      <td>0.482353</td>\n",
       "      <td>0.486275</td>\n",
       "      <td>...</td>\n",
       "      <td>0.788235</td>\n",
       "      <td>0.796078</td>\n",
       "      <td>0.772549</td>\n",
       "      <td>0.788235</td>\n",
       "      <td>0.796078</td>\n",
       "      <td>0.776471</td>\n",
       "      <td>0.796078</td>\n",
       "      <td>0.800000</td>\n",
       "      <td>0.788235</td>\n",
       "      <td>arjun</td>\n",
       "    </tr>\n",
       "    <tr>\n",
       "      <th>4</th>\n",
       "      <td>0.482353</td>\n",
       "      <td>0.823529</td>\n",
       "      <td>0.474510</td>\n",
       "      <td>0.478431</td>\n",
       "      <td>0.776471</td>\n",
       "      <td>0.474510</td>\n",
       "      <td>0.486275</td>\n",
       "      <td>0.784314</td>\n",
       "      <td>0.482353</td>\n",
       "      <td>0.486275</td>\n",
       "      <td>...</td>\n",
       "      <td>0.788235</td>\n",
       "      <td>0.796078</td>\n",
       "      <td>0.772549</td>\n",
       "      <td>0.788235</td>\n",
       "      <td>0.796078</td>\n",
       "      <td>0.776471</td>\n",
       "      <td>0.796078</td>\n",
       "      <td>0.800000</td>\n",
       "      <td>0.788235</td>\n",
       "      <td>arjun</td>\n",
       "    </tr>\n",
       "  </tbody>\n",
       "</table>\n",
       "<p>5 rows × 24301 columns</p>\n",
       "</div>"
      ],
      "text/plain": [
       "          0         1         2         3         4         5         6  \\\n",
       "0  0.482353  0.831373  0.478431  0.490196  0.800000  0.486275  0.490196   \n",
       "1  0.482353  0.827451  0.478431  0.486275  0.788235  0.482353  0.490196   \n",
       "2  0.482353  0.835294  0.478431  0.482353  0.835294  0.478431  0.482353   \n",
       "3  0.482353  0.823529  0.474510  0.478431  0.776471  0.474510  0.486275   \n",
       "4  0.482353  0.823529  0.474510  0.478431  0.776471  0.474510  0.486275   \n",
       "\n",
       "          7         8         9  ...     24291     24292     24293     24294  \\\n",
       "0  0.800000  0.490196  0.494118  ...  0.784314  0.788235  0.772549  0.776471   \n",
       "1  0.792157  0.486275  0.494118  ...  0.780392  0.780392  0.764706  0.784314   \n",
       "2  0.835294  0.478431  0.482353  ...  0.435294  0.454902  0.568627  0.439216   \n",
       "3  0.784314  0.482353  0.486275  ...  0.788235  0.796078  0.772549  0.788235   \n",
       "4  0.784314  0.482353  0.486275  ...  0.788235  0.796078  0.772549  0.788235   \n",
       "\n",
       "      24295     24296     24297     24298     24299  target  \n",
       "0  0.784314  0.768627  0.780392  0.784314  0.768627   arjun  \n",
       "1  0.788235  0.772549  0.788235  0.792157  0.776471   arjun  \n",
       "2  0.454902  0.568627  0.443137  0.458824  0.572549   arjun  \n",
       "3  0.796078  0.776471  0.796078  0.800000  0.788235   arjun  \n",
       "4  0.796078  0.776471  0.796078  0.800000  0.788235   arjun  \n",
       "\n",
       "[5 rows x 24301 columns]"
      ]
     },
     "execution_count": 92,
     "metadata": {},
     "output_type": "execute_result"
    }
   ],
   "source": [
    "df=pd.concat([df,df1],axis=1)\n",
    "df.head()"
   ]
  },
  {
   "cell_type": "code",
   "execution_count": 93,
   "id": "ddc723f4",
   "metadata": {},
   "outputs": [],
   "source": [
    "X=df.drop(['target'],axis=1)\n",
    "y=df[['target']]"
   ]
  },
  {
   "cell_type": "code",
   "execution_count": 94,
   "id": "67dd1d4a",
   "metadata": {},
   "outputs": [],
   "source": [
    "from sklearn.model_selection import train_test_split\n",
    "X_train,X_test,y_train,y_test=train_test_split(X,y,random_state=42,test_size=0.20)"
   ]
  },
  {
   "cell_type": "code",
   "execution_count": 95,
   "id": "38f9dec9",
   "metadata": {},
   "outputs": [
    {
     "name": "stderr",
     "output_type": "stream",
     "text": [
      "C:\\Users\\DELL\\anaconda3\\Lib\\site-packages\\sklearn\\utils\\validation.py:1184: DataConversionWarning: A column-vector y was passed when a 1d array was expected. Please change the shape of y to (n_samples, ), for example using ravel().\n",
      "  y = column_or_1d(y, warn=True)\n",
      "C:\\Users\\DELL\\anaconda3\\Lib\\site-packages\\sklearn\\linear_model\\_logistic.py:460: ConvergenceWarning: lbfgs failed to converge (status=1):\n",
      "STOP: TOTAL NO. of ITERATIONS REACHED LIMIT.\n",
      "\n",
      "Increase the number of iterations (max_iter) or scale the data as shown in:\n",
      "    https://scikit-learn.org/stable/modules/preprocessing.html\n",
      "Please also refer to the documentation for alternative solver options:\n",
      "    https://scikit-learn.org/stable/modules/linear_model.html#logistic-regression\n",
      "  n_iter_i = _check_optimize_result(\n"
     ]
    },
    {
     "data": {
      "text/html": [
       "<style>#sk-container-id-4 {color: black;}#sk-container-id-4 pre{padding: 0;}#sk-container-id-4 div.sk-toggleable {background-color: white;}#sk-container-id-4 label.sk-toggleable__label {cursor: pointer;display: block;width: 100%;margin-bottom: 0;padding: 0.3em;box-sizing: border-box;text-align: center;}#sk-container-id-4 label.sk-toggleable__label-arrow:before {content: \"▸\";float: left;margin-right: 0.25em;color: #696969;}#sk-container-id-4 label.sk-toggleable__label-arrow:hover:before {color: black;}#sk-container-id-4 div.sk-estimator:hover label.sk-toggleable__label-arrow:before {color: black;}#sk-container-id-4 div.sk-toggleable__content {max-height: 0;max-width: 0;overflow: hidden;text-align: left;background-color: #f0f8ff;}#sk-container-id-4 div.sk-toggleable__content pre {margin: 0.2em;color: black;border-radius: 0.25em;background-color: #f0f8ff;}#sk-container-id-4 input.sk-toggleable__control:checked~div.sk-toggleable__content {max-height: 200px;max-width: 100%;overflow: auto;}#sk-container-id-4 input.sk-toggleable__control:checked~label.sk-toggleable__label-arrow:before {content: \"▾\";}#sk-container-id-4 div.sk-estimator input.sk-toggleable__control:checked~label.sk-toggleable__label {background-color: #d4ebff;}#sk-container-id-4 div.sk-label input.sk-toggleable__control:checked~label.sk-toggleable__label {background-color: #d4ebff;}#sk-container-id-4 input.sk-hidden--visually {border: 0;clip: rect(1px 1px 1px 1px);clip: rect(1px, 1px, 1px, 1px);height: 1px;margin: -1px;overflow: hidden;padding: 0;position: absolute;width: 1px;}#sk-container-id-4 div.sk-estimator {font-family: monospace;background-color: #f0f8ff;border: 1px dotted black;border-radius: 0.25em;box-sizing: border-box;margin-bottom: 0.5em;}#sk-container-id-4 div.sk-estimator:hover {background-color: #d4ebff;}#sk-container-id-4 div.sk-parallel-item::after {content: \"\";width: 100%;border-bottom: 1px solid gray;flex-grow: 1;}#sk-container-id-4 div.sk-label:hover label.sk-toggleable__label {background-color: #d4ebff;}#sk-container-id-4 div.sk-serial::before {content: \"\";position: absolute;border-left: 1px solid gray;box-sizing: border-box;top: 0;bottom: 0;left: 50%;z-index: 0;}#sk-container-id-4 div.sk-serial {display: flex;flex-direction: column;align-items: center;background-color: white;padding-right: 0.2em;padding-left: 0.2em;position: relative;}#sk-container-id-4 div.sk-item {position: relative;z-index: 1;}#sk-container-id-4 div.sk-parallel {display: flex;align-items: stretch;justify-content: center;background-color: white;position: relative;}#sk-container-id-4 div.sk-item::before, #sk-container-id-4 div.sk-parallel-item::before {content: \"\";position: absolute;border-left: 1px solid gray;box-sizing: border-box;top: 0;bottom: 0;left: 50%;z-index: -1;}#sk-container-id-4 div.sk-parallel-item {display: flex;flex-direction: column;z-index: 1;position: relative;background-color: white;}#sk-container-id-4 div.sk-parallel-item:first-child::after {align-self: flex-end;width: 50%;}#sk-container-id-4 div.sk-parallel-item:last-child::after {align-self: flex-start;width: 50%;}#sk-container-id-4 div.sk-parallel-item:only-child::after {width: 0;}#sk-container-id-4 div.sk-dashed-wrapped {border: 1px dashed gray;margin: 0 0.4em 0.5em 0.4em;box-sizing: border-box;padding-bottom: 0.4em;background-color: white;}#sk-container-id-4 div.sk-label label {font-family: monospace;font-weight: bold;display: inline-block;line-height: 1.2em;}#sk-container-id-4 div.sk-label-container {text-align: center;}#sk-container-id-4 div.sk-container {/* jupyter's `normalize.less` sets `[hidden] { display: none; }` but bootstrap.min.css set `[hidden] { display: none !important; }` so we also need the `!important` here to be able to override the default hidden behavior on the sphinx rendered scikit-learn.org. See: https://github.com/scikit-learn/scikit-learn/issues/21755 */display: inline-block !important;position: relative;}#sk-container-id-4 div.sk-text-repr-fallback {display: none;}</style><div id=\"sk-container-id-4\" class=\"sk-top-container\"><div class=\"sk-text-repr-fallback\"><pre>LogisticRegression()</pre><b>In a Jupyter environment, please rerun this cell to show the HTML representation or trust the notebook. <br />On GitHub, the HTML representation is unable to render, please try loading this page with nbviewer.org.</b></div><div class=\"sk-container\" hidden><div class=\"sk-item\"><div class=\"sk-estimator sk-toggleable\"><input class=\"sk-toggleable__control sk-hidden--visually\" id=\"sk-estimator-id-4\" type=\"checkbox\" checked><label for=\"sk-estimator-id-4\" class=\"sk-toggleable__label sk-toggleable__label-arrow\">LogisticRegression</label><div class=\"sk-toggleable__content\"><pre>LogisticRegression()</pre></div></div></div></div></div>"
      ],
      "text/plain": [
       "LogisticRegression()"
      ]
     },
     "execution_count": 95,
     "metadata": {},
     "output_type": "execute_result"
    }
   ],
   "source": [
    "from sklearn.linear_model import LogisticRegression\n",
    "model_face=LogisticRegression()\n",
    "model_face.fit(X_train,y_train)"
   ]
  },
  {
   "cell_type": "code",
   "execution_count": 96,
   "id": "1571552f",
   "metadata": {},
   "outputs": [
    {
     "data": {
      "text/plain": [
       "array(['arjun', 'arjun', 'arjun', 'armaan', 'armaan', 'armaan', 'arjun',\n",
       "       'armaan'], dtype=object)"
      ]
     },
     "execution_count": 96,
     "metadata": {},
     "output_type": "execute_result"
    }
   ],
   "source": [
    "y_pred=model_face.predict(X_test)\n",
    "y_pred"
   ]
  },
  {
   "cell_type": "code",
   "execution_count": 97,
   "id": "9fcb884a",
   "metadata": {},
   "outputs": [
    {
     "data": {
      "text/plain": [
       "1.0"
      ]
     },
     "execution_count": 97,
     "metadata": {},
     "output_type": "execute_result"
    }
   ],
   "source": [
    "from sklearn.metrics import accuracy_score\n",
    "accuracy_score(y_pred,y_test)"
   ]
  },
  {
   "cell_type": "code",
   "execution_count": 98,
   "id": "fadaaa0f",
   "metadata": {},
   "outputs": [],
   "source": [
    "import cv2\n",
    "model=cv2.CascadeClassifier(\"C:/Users/DELL/anaconda3/Lib/site-packages/cv2/data/haarcascade_frontalface_default.xml\")\n",
    "vdo=cv2.VideoCapture(0)\n",
    "while True:\n",
    "    isImg,img=vdo.read()\n",
    "    if isImg==False:\n",
    "        break\n",
    "    faces=model.detectMultiScale(img)\n",
    "    for x,y,w,h in faces:\n",
    "        cv2.rectangle(img,(x,y),(x+w,y+h),(123,213,122))\n",
    "    cv2.imshow('a',img)\n",
    "    img1=img[y:y+h,x:x+w]\n",
    "\n",
    "    img1=cv2.resize(img,(90,90))\n",
    "    img1=img1.flatten()\n",
    "    img1=img1/255\n",
    "    y_pred=model_face.predict([img1])\n",
    "    \n",
    "    cv2.putText(img, str(y_pred),(x,y),cv2.FONT_HERSHEY_SIMPLEX ,1, (255, 212,214) , 1, cv2.LINE_AA) \n",
    "    cv2.imshow('a',img)\n",
    "\n",
    "    key=cv2.waitKey(25)\n",
    "    if(key==ord('c')):\n",
    "        break\n",
    "cv2.destroyAllWindows()\n",
    "vdo.release()"
   ]
  },
  {
   "cell_type": "code",
   "execution_count": null,
   "id": "9c7eb8a2",
   "metadata": {},
   "outputs": [],
   "source": []
  },
  {
   "cell_type": "code",
   "execution_count": null,
   "id": "abc3bf32",
   "metadata": {},
   "outputs": [],
   "source": []
  },
  {
   "cell_type": "code",
   "execution_count": null,
   "id": "c7428f76",
   "metadata": {},
   "outputs": [],
   "source": []
  },
  {
   "cell_type": "code",
   "execution_count": null,
   "id": "ba3218da",
   "metadata": {},
   "outputs": [],
   "source": []
  },
  {
   "cell_type": "code",
   "execution_count": null,
   "id": "7c413177",
   "metadata": {},
   "outputs": [],
   "source": []
  },
  {
   "cell_type": "code",
   "execution_count": null,
   "id": "4634296e",
   "metadata": {},
   "outputs": [],
   "source": []
  }
 ],
 "metadata": {
  "kernelspec": {
   "display_name": "Python 3 (ipykernel)",
   "language": "python",
   "name": "python3"
  },
  "language_info": {
   "codemirror_mode": {
    "name": "ipython",
    "version": 3
   },
   "file_extension": ".py",
   "mimetype": "text/x-python",
   "name": "python",
   "nbconvert_exporter": "python",
   "pygments_lexer": "ipython3",
   "version": "3.11.5"
  }
 },
 "nbformat": 4,
 "nbformat_minor": 5
}
